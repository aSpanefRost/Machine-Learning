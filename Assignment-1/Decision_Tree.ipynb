{
 "cells": [
  {
   "cell_type": "code",
   "execution_count": 114,
   "metadata": {},
   "outputs": [],
   "source": [
    "import numpy as np\n",
    "import pandas as pd\n",
    "\n",
    "from pprint import pprint\n",
    "import random\n",
    "from decision_tree_functions import decision_tree_algorithm, make_predictions, calculate_accuracy, post_pruning, filter_df\n",
    "from helper_functions import generate_data, create_plot, train_test_split"
   ]
  },
  {
   "cell_type": "markdown",
   "metadata": {},
   "source": [
    "# Adult Census Data Set (Classification Task)"
   ]
  },
  {
   "cell_type": "markdown",
   "metadata": {},
   "source": [
    "## 1. Building a decision tree taking input \"max_depth\" from the user"
   ]
  },
  {
   "cell_type": "markdown",
   "metadata": {},
   "source": [
    "### 1.1 Storing the dataset in a dataframe"
   ]
  },
  {
   "cell_type": "code",
   "execution_count": 115,
   "metadata": {},
   "outputs": [],
   "source": [
    "header = [\"age\", \"workclass\", \"fnlwgt\",\"education\",\"education_num\",\"marital_status\",\"occupation\",\"relationship\",\"race\",\"sex\",\"capital_gain\",\"capital_loss\",\"hours_per_week\",\"native_country\",\"label\"]\n",
    "df = pd.read_csv('mldata1.csv',names=header)"
   ]
  },
  {
   "cell_type": "markdown",
   "metadata": {},
   "source": [
    "Checking which attributes contain missing values"
   ]
  },
  {
   "cell_type": "code",
   "execution_count": 116,
   "metadata": {},
   "outputs": [
    {
     "name": "stdout",
     "output_type": "stream",
     "text": [
      "<class 'pandas.core.frame.DataFrame'>\n",
      "RangeIndex: 32561 entries, 0 to 32560\n",
      "Data columns (total 15 columns):\n",
      " #   Column          Non-Null Count  Dtype  \n",
      "---  ------          --------------  -----  \n",
      " 0   age             32561 non-null  int64  \n",
      " 1   workclass       30724 non-null  object \n",
      " 2   fnlwgt          32560 non-null  float64\n",
      " 3   education       32560 non-null  object \n",
      " 4   education_num   32560 non-null  float64\n",
      " 5   marital_status  32560 non-null  object \n",
      " 6   occupation      30717 non-null  object \n",
      " 7   relationship    32560 non-null  object \n",
      " 8   race            32560 non-null  object \n",
      " 9   sex             32560 non-null  object \n",
      " 10  capital_gain    32560 non-null  float64\n",
      " 11  capital_loss    32560 non-null  float64\n",
      " 12  hours_per_week  32560 non-null  float64\n",
      " 13  native_country  31977 non-null  object \n",
      " 14  label           32560 non-null  object \n",
      "dtypes: float64(5), int64(1), object(9)\n",
      "memory usage: 3.7+ MB\n"
     ]
    }
   ],
   "source": [
    "df = df.replace('?',np.nan)\n",
    "df.info()"
   ]
  },
  {
   "cell_type": "markdown",
   "metadata": {},
   "source": [
    "**The following attributes contain missing values:**\n",
    "* workclass\n",
    "* occupation\n",
    "* native country\n",
    "\n",
    "### 1.2 Handling missing values"
   ]
  },
  {
   "cell_type": "code",
   "execution_count": 117,
   "metadata": {},
   "outputs": [],
   "source": [
    "mode_workclass = df.workclass.mode()[0]\n",
    "mode_occupation = df.occupation.mode()[0]\n",
    "mode_native_country = df.native_country.mode()[0]\n",
    "\n",
    "df = df.fillna({\"workclass\": mode_workclass, \"occupation\": mode_occupation, \"native_country\": mode_native_country})"
   ]
  },
  {
   "cell_type": "markdown",
   "metadata": {},
   "source": [
    "### 1.3 Taking max_depth as input"
   ]
  },
  {
   "cell_type": "code",
   "execution_count": 118,
   "metadata": {},
   "outputs": [
    {
     "name": "stdout",
     "output_type": "stream",
     "text": [
      "Enter max_depth: 6\n"
     ]
    }
   ],
   "source": [
    "max_depth = int(input(\"Enter max_depth: \"))"
   ]
  },
  {
   "cell_type": "markdown",
   "metadata": {},
   "source": [
    "### 1.4 Splitting dataset into train, validation and test sets"
   ]
  },
  {
   "cell_type": "code",
   "execution_count": 119,
   "metadata": {},
   "outputs": [],
   "source": [
    "metrics = {\"index\": [], \"acc_tree\": []}\n",
    "\n",
    "train_dfs = []\n",
    "val_dfs = []\n",
    "test_dfs = []\n",
    "\n",
    "df = df[:2000]\n",
    "\n",
    "max_accuracy = 0.0\n",
    "\n",
    "for i in range(10):\n",
    "    \n",
    "    df_train, df_test = train_test_split(df,test_size=0.2)\n",
    "    df_traion, df_val = train_test_split(df_train,test_size=0.2)\n",
    "    \n",
    "    train_dfs.append(df_train)\n",
    "    val_dfs.append(df_val)\n",
    "    test_dfs.append(df_test)\n",
    "    \n",
    "    tree = decision_tree_algorithm(df_train, ml_task=\"classification\", max_depth = max_depth)\n",
    "    \n",
    "    accuracy = calculate_accuracy(df_test,tree)\n",
    "    \n",
    "    if max_accuracy < accuracy:\n",
    "        max_accuracy = accuracy\n",
    "        best_tree = tree\n",
    "    \n",
    "    metrics[\"index\"].append(i)\n",
    "    metrics[\"acc_tree\"].append(accuracy)\n",
    "    \n",
    "df_metrics = pd.DataFrame(metrics)\n",
    "df_metrics = df_metrics.set_index(\"index\")"
   ]
  },
  {
   "cell_type": "markdown",
   "metadata": {},
   "source": [
    "### 1.5 Choosing the best tree"
   ]
  },
  {
   "cell_type": "code",
   "execution_count": 120,
   "metadata": {},
   "outputs": [
    {
     "name": "stdout",
     "output_type": "stream",
     "text": [
      "Average accuracy:  0.8130000000000001\n",
      "Best accuracy:  0.83\n",
      "{'marital_status = Married-civ-spouse': [{'capital_gain <= 5013.0': [{'education_num <= 11.0': [{'age <= 32': [{'hours_per_week <= 46.0': [{'capital_loss <= 1573.0': ['<=50K',\n",
      "                                                                                                                                                                       '>50K']},\n",
      "                                                                                                                                           '<=50K']},\n",
      "                                                                                                               {'hours_per_week <= 39.0': [{'occupation = Tech-support': ['>50K',\n",
      "                                                                                                                                                                          '<=50K']},\n",
      "                                                                                                                                           '<=50K']}]},\n",
      "                                                                                                {'capital_loss <= 1628.0': [{'age <= 28': ['<=50K',\n",
      "                                                                                                                                           {'hours_per_week <= 25.0': ['<=50K',\n",
      "                                                                                                                                                                       '>50K']}]},\n",
      "                                                                                                                            '>50K']}]},\n",
      "                                                                     {'age <= 67': ['>50K',\n",
      "                                                                                    '<=50K']}]},\n",
      "                                         {'capital_gain <= 6849.0': [{'age <= 29': ['<=50K',\n",
      "                                                                                    {'education_num <= 12.0': ['<=50K',\n",
      "                                                                                                               {'hours_per_week <= 42.0': ['<=50K',\n",
      "                                                                                                                                           {'occupation = Exec-managerial': ['>50K',\n",
      "                                                                                                                                                                             '<=50K']}]}]}]},\n",
      "                                                                     '>50K']}]}\n"
     ]
    },
    {
     "data": {
      "image/png": "[encoded data removed]",
      "text/plain": [
       "<Figure size 864x360 with 1 Axes>"
      ]
     },
     "metadata": {},
     "output_type": "display_data"
    }
   ],
   "source": [
    "df_metrics.plot(figsize=(12,5),marker=\"o\")\n",
    "print(\"Average accuracy: \", sum(metrics[\"acc_tree\"])/10)\n",
    "print(\"Best accuracy: \", max_accuracy)\n",
    "pprint(best_tree)"
   ]
  },
  {
   "cell_type": "markdown",
   "metadata": {},
   "source": [
    "## 2. Choosing the best possible depth limit"
   ]
  },
  {
   "cell_type": "code",
   "execution_count": 121,
   "metadata": {},
   "outputs": [],
   "source": [
    "def best_avg_accuracy(train_dfs, test_dfs, max_depth):\n",
    "    \n",
    "    accs = []\n",
    "    max_accuracy = 0.0\n",
    "    \n",
    "    for i in range(10):\n",
    "        tree = decision_tree_algorithm(train_dfs[i], ml_task=\"classification\", max_depth = max_depth)\n",
    "\n",
    "        accuracy = calculate_accuracy(test_dfs[i],tree)\n",
    "\n",
    "        if max_accuracy < accuracy:\n",
    "            max_accuracy = accuracy\n",
    "            best_tree = tree\n",
    "            best_split = i\n",
    "            \n",
    "    avg_acc = sum(accs)/10\n",
    "    \n",
    "    return avg_acc, best_tree, best_split"
   ]
  },
  {
   "cell_type": "markdown",
   "metadata": {},
   "source": [
    "**Ranging the possible depth limit from 10 to 25**"
   ]
  },
  {
   "cell_type": "code",
   "execution_count": 122,
   "metadata": {},
   "outputs": [],
   "source": [
    "metrics = {\"max_depth\": [], \"acc_tree\": []}\n",
    "best_trees = []\n",
    "best_splits = [] \n",
    "\n",
    "best_test_dfs = []\n",
    "best_train_dfs = []\n",
    "best_val_dfs = []\n",
    "\n",
    "for n in range(10,26):\n",
    "    \n",
    "    #avg_acc, best_tree, best_split = best_avg_accuracy(train_dfs, test_dfs, n)\n",
    "    \n",
    "    df_train, df_test = train_test_split(df, test_size = 0.2)\n",
    "    df_train, df_val = train_test_split(df_train, test_size = 0.2)\n",
    "    \n",
    "    tree = decision_tree_algorithm(df_train, ml_task=\"classification\", max_depth=n)\n",
    " \n",
    "    metrics[\"max_depth\"].append(n)\n",
    "    #metrics[\"acc_tree\"].append(avg_acc)\n",
    "    metrics[\"acc_tree\"].append(calculate_accuracy(df_test, tree))\n",
    "    \n",
    "    best_trees.append(tree)\n",
    "    #best_splits.append(best_split)\n",
    "    \n",
    "    best_train_dfs.append(df_train)\n",
    "    best_val_dfs.append(df_val)\n",
    "    best_test_dfs.append(df_test)\n",
    "    \n",
    "df_metrics = pd.DataFrame(metrics)\n",
    "df_metrics = df_metrics.set_index(\"max_depth\")"
   ]
  },
  {
   "cell_type": "code",
   "execution_count": 123,
   "metadata": {},
   "outputs": [
    {
     "data": {
      "text/plain": [
       "<matplotlib.axes._subplots.AxesSubplot at 0x7f095c06f220>"
      ]
     },
     "execution_count": 123,
     "metadata": {},
     "output_type": "execute_result"
    },
    {
     "data": {
      "image/png": "[encoded data removed]",
      "text/plain": [
       "<Figure size 864x360 with 1 Axes>"
      ]
     },
     "metadata": {},
     "output_type": "display_data"
    }
   ],
   "source": [
    "df_metrics.plot(figsize=(12,5),marker=\"o\")"
   ]
  },
  {
   "cell_type": "markdown",
   "metadata": {},
   "source": [
    "**The best depth-limit is 19**"
   ]
  },
  {
   "cell_type": "markdown",
   "metadata": {},
   "source": [
    "## 3. Pruning"
   ]
  },
  {
   "cell_type": "code",
   "execution_count": 133,
   "metadata": {},
   "outputs": [],
   "source": [
    "tree_pruned = post_pruning(best_trees[2], best_train_dfs[9], best_val_dfs[9], ml_task=\"classification\")"
   ]
  },
  {
   "cell_type": "code",
   "execution_count": 134,
   "metadata": {},
   "outputs": [
    {
     "data": {
      "text/plain": [
       "0.82"
      ]
     },
     "execution_count": 134,
     "metadata": {},
     "output_type": "execute_result"
    }
   ],
   "source": [
    "calculate_accuracy(best_test_dfs[9], best_trees[9])"
   ]
  },
  {
   "cell_type": "code",
   "execution_count": 135,
   "metadata": {},
   "outputs": [
    {
     "data": {
      "text/plain": [
       "0.86"
      ]
     },
     "execution_count": 135,
     "metadata": {},
     "output_type": "execute_result"
    }
   ],
   "source": [
    "calculate_accuracy(best_test_dfs[9], tree_pruned)"
   ]
  },
  {
   "cell_type": "markdown",
   "metadata": {},
   "source": [
    "## 4. Printing Final Decision Tree"
   ]
  },
  {
   "cell_type": "code",
   "execution_count": 127,
   "metadata": {},
   "outputs": [
    {
     "name": "stdout",
     "output_type": "stream",
     "text": [
      "{'marital_status = Married-civ-spouse': [{'capital_gain <= 5013.0': [{'education_num <= 11.0': [{'education_num <= 8.0': ['<=50K',\n",
      "                                                                                                                          {'age <= 31': ['<=50K',\n",
      "                                                                                                                                         {'hours_per_week <= 40.0': [{'workclass = Self-emp-inc': ['>50K',\n",
      "                                                                                                                                                                                                   {'capital_loss <= 1740.0': [{'hours_per_week <= 16.0': ['<=50K',\n",
      "                                                                                                                                                                                                                                                           {'occupation = Prof-specialty': [{'race = White': [{'fnlwgt <= 246862.0': ['>50K',\n",
      "                                                                                                                                                                                                                                                                                                                                      '<=50K']},\n",
      "                                                                                                                                                                                                                                                                                                              '<=50K']},\n",
      "                                                                                                                                                                                                                                                                                            '<=50K']}]},\n",
      "                                                                                                                                                                                                                               '>50K']}]},\n",
      "                                                                                                                                                                     '>50K']}]}]},\n",
      "                                                                                                '>50K']},\n",
      "                                                                     '>50K']},\n",
      "                                         {'education_num <= 12.0': ['<=50K',\n",
      "                                                                    {'capital_gain <= 6849.0': ['<=50K',\n",
      "                                                                                                '>50K']}]}]}\n"
     ]
    }
   ],
   "source": [
    "pprint(tree_pruned)"
   ]
  }
 ],
 "metadata": {
  "kernelspec": {
   "display_name": "Python 3",
   "language": "python",
   "name": "python3"
  },
  "language_info": {
   "codemirror_mode": {
    "name": "ipython",
    "version": 3
   },
   "file_extension": ".py",
   "mimetype": "text/x-python",
   "name": "python",
   "nbconvert_exporter": "python",
   "pygments_lexer": "ipython3",
   "version": "3.8.2"
  }
 },
 "nbformat": 4,
 "nbformat_minor": 4
}
