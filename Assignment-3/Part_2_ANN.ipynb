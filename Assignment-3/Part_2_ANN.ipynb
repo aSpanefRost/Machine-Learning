{
 "cells": [
  {
   "cell_type": "markdown",
   "metadata": {},
   "source": [
    "# ANN Classifier"
   ]
  },
  {
   "cell_type": "markdown",
   "metadata": {},
   "source": [
    "## Importing Libraries"
   ]
  },
  {
   "cell_type": "code",
   "execution_count": 1,
   "metadata": {},
   "outputs": [],
   "source": [
    "import numpy as np\n",
    "import pandas as pd \n",
    "from matplotlib import pyplot as plt\n",
    "from sklearn.neural_network import MLPClassifier\n",
    "from sklearn.model_selection import train_test_split"
   ]
  },
  {
   "cell_type": "code",
   "execution_count": 2,
   "metadata": {},
   "outputs": [],
   "source": [
    "data=pd.read_csv('ML3.csv')"
   ]
  },
  {
   "cell_type": "code",
   "execution_count": 3,
   "metadata": {},
   "outputs": [],
   "source": [
    "#data.head()"
   ]
  },
  {
   "cell_type": "code",
   "execution_count": 4,
   "metadata": {},
   "outputs": [],
   "source": [
    "#data.tail()"
   ]
  },
  {
   "cell_type": "code",
   "execution_count": 5,
   "metadata": {},
   "outputs": [],
   "source": [
    "df_x=data.iloc[:,:-1]\n",
    "df_y=data.iloc[:,-1:]"
   ]
  },
  {
   "cell_type": "code",
   "execution_count": 6,
   "metadata": {},
   "outputs": [],
   "source": [
    "#df_x.head()"
   ]
  },
  {
   "cell_type": "code",
   "execution_count": 7,
   "metadata": {},
   "outputs": [],
   "source": [
    "#df_y.head()"
   ]
  },
  {
   "cell_type": "code",
   "execution_count": 8,
   "metadata": {},
   "outputs": [],
   "source": [
    "x_train, x_test, y_train, y_test = train_test_split(df_x, df_y, test_size=0.2,random_state=0)"
   ]
  },
  {
   "cell_type": "code",
   "execution_count": 9,
   "metadata": {},
   "outputs": [],
   "source": [
    "#x_train.info()"
   ]
  },
  {
   "cell_type": "code",
   "execution_count": 10,
   "metadata": {},
   "outputs": [],
   "source": [
    "#y_train.info()"
   ]
  },
  {
   "cell_type": "code",
   "execution_count": 11,
   "metadata": {},
   "outputs": [],
   "source": [
    "#x_test.info()"
   ]
  },
  {
   "cell_type": "markdown",
   "metadata": {},
   "source": [
    "## 0 hidden layer :"
   ]
  },
  {
   "cell_type": "markdown",
   "metadata": {},
   "source": [
    "### learning rate = 0.1"
   ]
  },
  {
   "cell_type": "code",
   "execution_count": 12,
   "metadata": {},
   "outputs": [],
   "source": [
    "nn=MLPClassifier(activation='logistic',solver='sgd',hidden_layer_sizes=(),learning_rate_init=0.1,max_iter=2000,random_state=0)"
   ]
  },
  {
   "cell_type": "code",
   "execution_count": 13,
   "metadata": {},
   "outputs": [
    {
     "data": {
      "text/plain": [
       "MLPClassifier(activation='logistic', hidden_layer_sizes=(),\n",
       "              learning_rate_init=0.1, max_iter=2000, random_state=0,\n",
       "              solver='sgd')"
      ]
     },
     "execution_count": 13,
     "metadata": {},
     "output_type": "execute_result"
    }
   ],
   "source": [
    "nn.fit(x_train,y_train.values.ravel())"
   ]
  },
  {
   "cell_type": "code",
   "execution_count": 14,
   "metadata": {},
   "outputs": [
    {
     "name": "stdout",
     "output_type": "stream",
     "text": [
      "0.9428571428571428\n"
     ]
    }
   ],
   "source": [
    "y_pred=nn.predict(x_test)\n",
    "print(nn.score(x_test, y_test))"
   ]
  },
  {
   "cell_type": "code",
   "execution_count": 15,
   "metadata": {},
   "outputs": [],
   "source": [
    "arr_acc=[]\n",
    "arr_lr=[ 0.1, 0.01, 0.001, 0.0001,\n",
    "0.00001]\n",
    "arr_acc.append(nn.score(x_test,y_test))"
   ]
  },
  {
   "cell_type": "code",
   "execution_count": 16,
   "metadata": {},
   "outputs": [],
   "source": [
    "#arr_acc[0]"
   ]
  },
  {
   "cell_type": "markdown",
   "metadata": {},
   "source": [
    "### learning rate=0.01"
   ]
  },
  {
   "cell_type": "code",
   "execution_count": 17,
   "metadata": {},
   "outputs": [
    {
     "name": "stdout",
     "output_type": "stream",
     "text": [
      "0.8857142857142857\n"
     ]
    }
   ],
   "source": [
    "nn=MLPClassifier(activation='logistic',solver='sgd',hidden_layer_sizes=(),learning_rate_init=0.01,max_iter=2000,random_state=0)\n",
    "\n",
    "nn.fit(x_train,y_train.values.ravel())\n",
    "\n",
    "y_pred=nn.predict(x_test)\n",
    "print(nn.score(x_test, y_test))\n",
    "arr_acc.append(nn.score(x_test,y_test))"
   ]
  },
  {
   "cell_type": "code",
   "execution_count": 18,
   "metadata": {},
   "outputs": [],
   "source": [
    "#arr_acc[1]"
   ]
  },
  {
   "cell_type": "markdown",
   "metadata": {},
   "source": [
    "### learning rate=0.001"
   ]
  },
  {
   "cell_type": "code",
   "execution_count": 19,
   "metadata": {},
   "outputs": [
    {
     "name": "stdout",
     "output_type": "stream",
     "text": [
      "0.9142857142857143\n"
     ]
    }
   ],
   "source": [
    "nn=MLPClassifier(activation='logistic',solver='sgd',hidden_layer_sizes=(),learning_rate_init=0.001,max_iter=2000,random_state=0)\n",
    "\n",
    "nn.fit(x_train,y_train.values.ravel())\n",
    "\n",
    "y_pred=nn.predict(x_test)\n",
    "print(nn.score(x_test, y_test))\n",
    "arr_acc.append(nn.score(x_test,y_test))"
   ]
  },
  {
   "cell_type": "markdown",
   "metadata": {},
   "source": [
    "### Learning rate=0.0001"
   ]
  },
  {
   "cell_type": "code",
   "execution_count": 20,
   "metadata": {},
   "outputs": [
    {
     "name": "stdout",
     "output_type": "stream",
     "text": [
      "0.8285714285714286\n"
     ]
    }
   ],
   "source": [
    "nn=MLPClassifier(activation='logistic',solver='sgd',hidden_layer_sizes=(),learning_rate_init=0.0001,max_iter=2000,random_state=0)\n",
    "\n",
    "nn.fit(x_train,y_train.values.ravel())\n",
    "\n",
    "y_pred=nn.predict(x_test)\n",
    "print(nn.score(x_test, y_test))\n",
    "arr_acc.append(nn.score(x_test,y_test))"
   ]
  },
  {
   "cell_type": "markdown",
   "metadata": {},
   "source": [
    "### Learning rate=0.00001"
   ]
  },
  {
   "cell_type": "code",
   "execution_count": 21,
   "metadata": {},
   "outputs": [
    {
     "name": "stdout",
     "output_type": "stream",
     "text": [
      "0.44285714285714284\n"
     ]
    }
   ],
   "source": [
    "nn=MLPClassifier(activation='logistic',solver='sgd',hidden_layer_sizes=(),learning_rate_init=0.00001,max_iter=2000,random_state=0)\n",
    "\n",
    "nn.fit(x_train,y_train.values.ravel())\n",
    "\n",
    "y_pred=nn.predict(x_test)\n",
    "print(nn.score(x_test, y_test))\n",
    "arr_acc.append(nn.score(x_test,y_test))"
   ]
  },
  {
   "cell_type": "code",
   "execution_count": 22,
   "metadata": {},
   "outputs": [],
   "source": [
    "# plt.xlabel('Learning-Rate')\n",
    "# plt.ylabel('Accuracy')\n",
    "# plt.plot(arr_lr,arr_acc,ls='--',marker='o')"
   ]
  },
  {
   "cell_type": "code",
   "execution_count": 23,
   "metadata": {},
   "outputs": [],
   "source": [
    "# plt.show()"
   ]
  },
  {
   "cell_type": "markdown",
   "metadata": {},
   "source": [
    "# 1 hidden layer with 2 nodes"
   ]
  },
  {
   "cell_type": "markdown",
   "metadata": {},
   "source": [
    "### Learning rate=0.1"
   ]
  },
  {
   "cell_type": "code",
   "execution_count": 24,
   "metadata": {},
   "outputs": [
    {
     "name": "stdout",
     "output_type": "stream",
     "text": [
      "0.9428571428571428\n"
     ]
    }
   ],
   "source": [
    "arr_acc12=[]\n",
    "nn=MLPClassifier(activation='logistic',solver='sgd',hidden_layer_sizes=(2,),learning_rate_init=0.1,max_iter=2000,random_state=0)\n",
    "\n",
    "nn.fit(x_train,y_train.values.ravel())\n",
    "\n",
    "y_pred=nn.predict(x_test)\n",
    "print(nn.score(x_test, y_test))\n",
    "arr_acc12.append(nn.score(x_test,y_test))"
   ]
  },
  {
   "cell_type": "markdown",
   "metadata": {},
   "source": [
    "### Learning rate=0.01"
   ]
  },
  {
   "cell_type": "code",
   "execution_count": 25,
   "metadata": {},
   "outputs": [
    {
     "name": "stdout",
     "output_type": "stream",
     "text": [
      "0.9\n"
     ]
    }
   ],
   "source": [
    "nn=MLPClassifier(activation='logistic',solver='sgd',hidden_layer_sizes=(2,),learning_rate_init=0.01,max_iter=2000,random_state=0)\n",
    "\n",
    "nn.fit(x_train,y_train.values.ravel())\n",
    "\n",
    "y_pred=nn.predict(x_test)\n",
    "print(nn.score(x_test, y_test))\n",
    "arr_acc12.append(nn.score(x_test,y_test))"
   ]
  },
  {
   "cell_type": "markdown",
   "metadata": {},
   "source": [
    "### Learning rate=0.001"
   ]
  },
  {
   "cell_type": "code",
   "execution_count": 26,
   "metadata": {},
   "outputs": [
    {
     "name": "stdout",
     "output_type": "stream",
     "text": [
      "0.6285714285714286\n"
     ]
    }
   ],
   "source": [
    "nn=MLPClassifier(activation='logistic',solver='sgd',hidden_layer_sizes=(2,),learning_rate_init=0.001,max_iter=2000,random_state=0)\n",
    "\n",
    "nn.fit(x_train,y_train.values.ravel())\n",
    "\n",
    "y_pred=nn.predict(x_test)\n",
    "print(nn.score(x_test, y_test))\n",
    "arr_acc12.append(nn.score(x_test,y_test))"
   ]
  },
  {
   "cell_type": "markdown",
   "metadata": {},
   "source": [
    "### Learning rate =0.0001"
   ]
  },
  {
   "cell_type": "code",
   "execution_count": 27,
   "metadata": {},
   "outputs": [
    {
     "name": "stdout",
     "output_type": "stream",
     "text": [
      "0.6285714285714286\n"
     ]
    }
   ],
   "source": [
    "nn=MLPClassifier(activation='logistic',solver='sgd',hidden_layer_sizes=(2,),learning_rate_init=0.0001,max_iter=2000,random_state=0)\n",
    "\n",
    "nn.fit(x_train,y_train.values.ravel())\n",
    "\n",
    "y_pred=nn.predict(x_test)\n",
    "print(nn.score(x_test, y_test))\n",
    "arr_acc12.append(nn.score(x_test,y_test))"
   ]
  },
  {
   "cell_type": "markdown",
   "metadata": {},
   "source": [
    "### Learning rate=0.00001"
   ]
  },
  {
   "cell_type": "code",
   "execution_count": 28,
   "metadata": {},
   "outputs": [
    {
     "name": "stdout",
     "output_type": "stream",
     "text": [
      "0.6285714285714286\n"
     ]
    }
   ],
   "source": [
    "nn=MLPClassifier(activation='logistic',solver='sgd',hidden_layer_sizes=(2,),learning_rate_init=0.00001,max_iter=2000,random_state=0)\n",
    "\n",
    "nn.fit(x_train,y_train.values.ravel())\n",
    "\n",
    "y_pred=nn.predict(x_test)\n",
    "print(nn.score(x_test, y_test))\n",
    "arr_acc12.append(nn.score(x_test,y_test))"
   ]
  },
  {
   "cell_type": "code",
   "execution_count": 29,
   "metadata": {},
   "outputs": [],
   "source": [
    "# plt.xlabel('Learning-Rate')\n",
    "# plt.ylabel('Accuracy')\n",
    "# plt.plot(arr_lr,arr_acc,label='0 hidden layer',ls='--',marker='o')\n",
    "# plt.plot(arr_lr,arr_acc12,label='1 hidden layer with 2 nodes',ls='--',marker='o')\n",
    "# plt.legend()\n",
    "# plt.show()"
   ]
  },
  {
   "cell_type": "markdown",
   "metadata": {},
   "source": [
    "# 1 hidden layer with 6 nodes"
   ]
  },
  {
   "cell_type": "markdown",
   "metadata": {},
   "source": [
    "### Learning Rate=0.1"
   ]
  },
  {
   "cell_type": "code",
   "execution_count": 30,
   "metadata": {},
   "outputs": [
    {
     "name": "stdout",
     "output_type": "stream",
     "text": [
      "0.9428571428571428\n"
     ]
    }
   ],
   "source": [
    "arr_acc16=[]\n",
    "nn=MLPClassifier(activation='logistic',solver='sgd',hidden_layer_sizes=(6,),learning_rate_init=0.1,max_iter=2000,random_state=0)\n",
    "\n",
    "nn.fit(x_train,y_train.values.ravel())\n",
    "\n",
    "y_pred=nn.predict(x_test)\n",
    "print(nn.score(x_test, y_test))\n",
    "arr_acc16.append(nn.score(x_test,y_test))"
   ]
  },
  {
   "cell_type": "markdown",
   "metadata": {},
   "source": [
    "### Learning Rate=0.01"
   ]
  },
  {
   "cell_type": "code",
   "execution_count": 31,
   "metadata": {},
   "outputs": [
    {
     "name": "stdout",
     "output_type": "stream",
     "text": [
      "0.9\n"
     ]
    }
   ],
   "source": [
    "nn=MLPClassifier(activation='logistic',solver='sgd',hidden_layer_sizes=(6,),learning_rate_init=0.01,max_iter=2000,random_state=0)\n",
    "\n",
    "nn.fit(x_train,y_train.values.ravel())\n",
    "\n",
    "y_pred=nn.predict(x_test)\n",
    "print(nn.score(x_test, y_test))\n",
    "arr_acc16.append(nn.score(x_test,y_test))"
   ]
  },
  {
   "cell_type": "markdown",
   "metadata": {},
   "source": [
    "### Learning Rate=0.001"
   ]
  },
  {
   "cell_type": "code",
   "execution_count": 32,
   "metadata": {},
   "outputs": [
    {
     "name": "stdout",
     "output_type": "stream",
     "text": [
      "0.8857142857142857\n"
     ]
    }
   ],
   "source": [
    "nn=MLPClassifier(activation='logistic',solver='sgd',hidden_layer_sizes=(6,),learning_rate_init=0.001,max_iter=2000,random_state=0)\n",
    "\n",
    "nn.fit(x_train,y_train.values.ravel())\n",
    "\n",
    "y_pred=nn.predict(x_test)\n",
    "print(nn.score(x_test, y_test))\n",
    "arr_acc16.append(nn.score(x_test,y_test))"
   ]
  },
  {
   "cell_type": "markdown",
   "metadata": {},
   "source": [
    "### Learning Rate=0.0001"
   ]
  },
  {
   "cell_type": "code",
   "execution_count": 33,
   "metadata": {},
   "outputs": [
    {
     "name": "stdout",
     "output_type": "stream",
     "text": [
      "0.6714285714285714\n"
     ]
    }
   ],
   "source": [
    "nn=MLPClassifier(activation='logistic',solver='sgd',hidden_layer_sizes=(6,),learning_rate_init=0.0001,max_iter=2000,random_state=0)\n",
    "\n",
    "nn.fit(x_train,y_train.values.ravel())\n",
    "\n",
    "y_pred=nn.predict(x_test)\n",
    "print(nn.score(x_test, y_test))\n",
    "arr_acc16.append(nn.score(x_test,y_test))"
   ]
  },
  {
   "cell_type": "markdown",
   "metadata": {},
   "source": [
    "### Learning Rate =0.00001"
   ]
  },
  {
   "cell_type": "code",
   "execution_count": 34,
   "metadata": {},
   "outputs": [
    {
     "name": "stdout",
     "output_type": "stream",
     "text": [
      "0.37142857142857144\n"
     ]
    }
   ],
   "source": [
    "nn=MLPClassifier(activation='logistic',solver='sgd',hidden_layer_sizes=(6,),learning_rate_init=0.00001,max_iter=2000,random_state=0)\n",
    "\n",
    "nn.fit(x_train,y_train.values.ravel())\n",
    "\n",
    "y_pred=nn.predict(x_test)\n",
    "print(nn.score(x_test, y_test))\n",
    "arr_acc16.append(nn.score(x_test,y_test))"
   ]
  },
  {
   "cell_type": "code",
   "execution_count": 35,
   "metadata": {},
   "outputs": [],
   "source": [
    "# plt.xlabel('Learning-Rate')\n",
    "# plt.ylabel('Accuracy')\n",
    "# plt.plot(arr_lr,arr_acc,label='0 hidden layer',ls='--',marker='o')\n",
    "# plt.plot(arr_lr,arr_acc12,label='1 hidden layer with 2 nodes',ls='--',marker='o')\n",
    "# plt.plot(arr_lr,arr_acc16,label='1 hidden layer with 6 nodes',ls='--',marker='o')\n",
    "# plt.legend()\n",
    "# plt.show()"
   ]
  },
  {
   "cell_type": "markdown",
   "metadata": {},
   "source": [
    "# 2 hidden layers with 2 and 3 nodes respectively"
   ]
  },
  {
   "cell_type": "markdown",
   "metadata": {},
   "source": [
    "### Learning Rate=0.1"
   ]
  },
  {
   "cell_type": "code",
   "execution_count": 36,
   "metadata": {},
   "outputs": [
    {
     "name": "stdout",
     "output_type": "stream",
     "text": [
      "0.6285714285714286\n"
     ]
    }
   ],
   "source": [
    "arr_acc223=[]\n",
    "nn=MLPClassifier(activation='logistic',solver='sgd',hidden_layer_sizes=(2,3,),learning_rate_init=0.1,max_iter=2000,random_state=0)\n",
    "\n",
    "nn.fit(x_train,y_train.values.ravel())\n",
    "\n",
    "y_pred=nn.predict(x_test)\n",
    "print(nn.score(x_test, y_test))\n",
    "arr_acc223.append(nn.score(x_test,y_test))"
   ]
  },
  {
   "cell_type": "markdown",
   "metadata": {},
   "source": [
    "### Learning Rate=0.01"
   ]
  },
  {
   "cell_type": "code",
   "execution_count": 37,
   "metadata": {},
   "outputs": [
    {
     "name": "stdout",
     "output_type": "stream",
     "text": [
      "0.6285714285714286\n"
     ]
    }
   ],
   "source": [
    "nn=MLPClassifier(activation='logistic',solver='sgd',hidden_layer_sizes=(2,3,),learning_rate_init=0.01,max_iter=2000,random_state=0)\n",
    "\n",
    "nn.fit(x_train,y_train.values.ravel())\n",
    "\n",
    "y_pred=nn.predict(x_test)\n",
    "print(nn.score(x_test, y_test))\n",
    "arr_acc223.append(nn.score(x_test,y_test))"
   ]
  },
  {
   "cell_type": "markdown",
   "metadata": {},
   "source": [
    "### Learning Rate=0.001"
   ]
  },
  {
   "cell_type": "code",
   "execution_count": 38,
   "metadata": {},
   "outputs": [
    {
     "name": "stdout",
     "output_type": "stream",
     "text": [
      "0.6285714285714286\n"
     ]
    }
   ],
   "source": [
    "nn=MLPClassifier(activation='logistic',solver='sgd',hidden_layer_sizes=(2,3,),learning_rate_init=0.001,max_iter=2000,random_state=0)\n",
    "\n",
    "nn.fit(x_train,y_train.values.ravel())\n",
    "\n",
    "y_pred=nn.predict(x_test)\n",
    "print(nn.score(x_test, y_test))\n",
    "arr_acc223.append(nn.score(x_test,y_test))"
   ]
  },
  {
   "cell_type": "markdown",
   "metadata": {},
   "source": [
    "### Learning Rate=0.0001"
   ]
  },
  {
   "cell_type": "code",
   "execution_count": 39,
   "metadata": {},
   "outputs": [
    {
     "name": "stdout",
     "output_type": "stream",
     "text": [
      "0.37142857142857144\n"
     ]
    }
   ],
   "source": [
    "nn=MLPClassifier(activation='logistic',solver='sgd',hidden_layer_sizes=(2,3,),learning_rate_init=0.0001,max_iter=2000,random_state=0)\n",
    "\n",
    "nn.fit(x_train,y_train.values.ravel())\n",
    "\n",
    "y_pred=nn.predict(x_test)\n",
    "print(nn.score(x_test, y_test))\n",
    "arr_acc223.append(nn.score(x_test,y_test))"
   ]
  },
  {
   "cell_type": "markdown",
   "metadata": {},
   "source": [
    "### Learning Rate=0.00001"
   ]
  },
  {
   "cell_type": "code",
   "execution_count": 40,
   "metadata": {},
   "outputs": [
    {
     "name": "stdout",
     "output_type": "stream",
     "text": [
      "0.37142857142857144\n"
     ]
    }
   ],
   "source": [
    "nn=MLPClassifier(activation='logistic',solver='sgd',hidden_layer_sizes=(2,3,),learning_rate_init=0.00001,max_iter=2000,random_state=0)\n",
    "\n",
    "nn.fit(x_train,y_train.values.ravel())\n",
    "\n",
    "y_pred=nn.predict(x_test)\n",
    "print(nn.score(x_test, y_test))\n",
    "arr_acc223.append(nn.score(x_test,y_test))"
   ]
  },
  {
   "cell_type": "code",
   "execution_count": 41,
   "metadata": {},
   "outputs": [],
   "source": [
    "# plt.xlabel('Learning-Rate')\n",
    "# plt.ylabel('Accuracy')\n",
    "# plt.plot(arr_lr,arr_acc,label='0 hidden layer',ls='--',marker='o')\n",
    "# plt.plot(arr_lr,arr_acc12,label='1 hidden layer with 2 nodes',ls='--',marker='o')\n",
    "# plt.plot(arr_lr,arr_acc16,label='1 hidden layer with 6 nodes',ls='--',marker='o')\n",
    "\n",
    "# plt.plot(arr_lr,arr_acc223,label='2 hidden layer with 2 and 3 nodes',ls='--',marker='o')\n",
    "# plt.legend()\n",
    "# plt.show()"
   ]
  },
  {
   "cell_type": "markdown",
   "metadata": {},
   "source": [
    "# 2 hidden layers with 3 and 2 nodes respectively"
   ]
  },
  {
   "cell_type": "markdown",
   "metadata": {},
   "source": [
    "### learning rate=0.1"
   ]
  },
  {
   "cell_type": "code",
   "execution_count": 42,
   "metadata": {},
   "outputs": [
    {
     "name": "stdout",
     "output_type": "stream",
     "text": [
      "0.8714285714285714\n"
     ]
    }
   ],
   "source": [
    "arr_acc232=[]\n",
    "nn=MLPClassifier(activation='logistic',solver='sgd',hidden_layer_sizes=(3,2,),learning_rate_init=0.1,max_iter=2000,random_state=0)\n",
    "\n",
    "nn.fit(x_train,y_train.values.ravel())\n",
    "\n",
    "y_pred=nn.predict(x_test)\n",
    "print(nn.score(x_test, y_test))\n",
    "arr_acc232.append(nn.score(x_test,y_test))"
   ]
  },
  {
   "cell_type": "markdown",
   "metadata": {},
   "source": [
    "### Learning Rate=0.01"
   ]
  },
  {
   "cell_type": "code",
   "execution_count": 43,
   "metadata": {},
   "outputs": [
    {
     "name": "stdout",
     "output_type": "stream",
     "text": [
      "0.6285714285714286\n"
     ]
    }
   ],
   "source": [
    "nn=MLPClassifier(activation='logistic',solver='sgd',hidden_layer_sizes=(3,2,),learning_rate_init=0.01,max_iter=2000,random_state=0)\n",
    "\n",
    "nn.fit(x_train,y_train.values.ravel())\n",
    "\n",
    "y_pred=nn.predict(x_test)\n",
    "print(nn.score(x_test, y_test))\n",
    "arr_acc232.append(nn.score(x_test,y_test))"
   ]
  },
  {
   "cell_type": "markdown",
   "metadata": {},
   "source": [
    "### Learning Rate = 0.001"
   ]
  },
  {
   "cell_type": "code",
   "execution_count": 44,
   "metadata": {},
   "outputs": [
    {
     "name": "stdout",
     "output_type": "stream",
     "text": [
      "0.6285714285714286\n"
     ]
    }
   ],
   "source": [
    "nn=MLPClassifier(activation='logistic',solver='sgd',hidden_layer_sizes=(3,2,),learning_rate_init=0.001,max_iter=2000,random_state=0)\n",
    "\n",
    "nn.fit(x_train,y_train.values.ravel())\n",
    "\n",
    "y_pred=nn.predict(x_test)\n",
    "print(nn.score(x_test, y_test))\n",
    "arr_acc232.append(nn.score(x_test,y_test))"
   ]
  },
  {
   "cell_type": "markdown",
   "metadata": {},
   "source": [
    "### Learning Rate=0.0001"
   ]
  },
  {
   "cell_type": "code",
   "execution_count": 45,
   "metadata": {},
   "outputs": [
    {
     "name": "stdout",
     "output_type": "stream",
     "text": [
      "0.37142857142857144\n"
     ]
    }
   ],
   "source": [
    "nn=MLPClassifier(activation='logistic',solver='sgd',hidden_layer_sizes=(3,2,),learning_rate_init=0.0001,max_iter=2000,random_state=0)\n",
    "\n",
    "nn.fit(x_train,y_train.values.ravel())\n",
    "\n",
    "y_pred=nn.predict(x_test)\n",
    "print(nn.score(x_test, y_test))\n",
    "arr_acc232.append(nn.score(x_test,y_test))"
   ]
  },
  {
   "cell_type": "markdown",
   "metadata": {},
   "source": [
    "### Learning Rate=0.00001"
   ]
  },
  {
   "cell_type": "code",
   "execution_count": 46,
   "metadata": {},
   "outputs": [
    {
     "name": "stdout",
     "output_type": "stream",
     "text": [
      "0.37142857142857144\n"
     ]
    }
   ],
   "source": [
    "nn=MLPClassifier(activation='logistic',solver='sgd',hidden_layer_sizes=(3,2,),learning_rate_init=0.00001,max_iter=2000,random_state=0)\n",
    "\n",
    "nn.fit(x_train,y_train.values.ravel())\n",
    "\n",
    "y_pred=nn.predict(x_test)\n",
    "print(nn.score(x_test, y_test))\n",
    "arr_acc232.append(nn.score(x_test,y_test))"
   ]
  },
  {
   "cell_type": "code",
   "execution_count": 47,
   "metadata": {},
   "outputs": [
    {
     "data": {
      "image/png": "[encoded data removed]",
      "text/plain": [
       "<Figure size 1296x1080 with 1 Axes>"
      ]
     },
     "metadata": {
      "needs_background": "light"
     },
     "output_type": "display_data"
    }
   ],
   "source": [
    "\n",
    "plt.rcParams['figure.figsize'] = [18, 15]\n",
    "plt.xlabel('Learning-Rate',fontsize=30)\n",
    "plt.ylabel('Accuracy',fontsize=30)\n",
    "plt.plot(arr_lr,arr_acc,label='0 hidden layer',ls='--',marker='o')\n",
    "plt.plot(arr_lr,arr_acc12,label='1 hidden layer with 2 nodes',ls='-',marker='o')\n",
    "plt.plot(arr_lr,arr_acc16,label='1 hidden layer with 6 nodes',ls='--',marker='o')\n",
    "plt.plot(arr_lr,arr_acc223,label='2 hidden layer with 2 and 3 nodes',ls='--',marker='o')\n",
    "plt.plot(arr_lr,arr_acc232,label='2 hidden layer with 3 and 2 nodes',ls='-.',marker='o')\n",
    "plt.legend()\n",
    "plt.savefig(\"figure1.png\")\n",
    "plt.show()\n"
   ]
  },
  {
   "cell_type": "code",
   "execution_count": 48,
   "metadata": {},
   "outputs": [],
   "source": [
    "# gs = fig.add_gridspec(1, 5, hspace=0, wspace=0)\n",
    "# #(ax1, ax2), (ax3, ax4) = gs.subplots(sharex='col', sharey='row')\n",
    "# fig,(ax1, ax2, ax3, ax4, ax5) = gs.subplots(sharex='col', sharey='row')\n",
    "# #plt.rcParams['figure.figsize'] = [15, 25]\n",
    "# #plt.xlabel('Learning-Rate')\n",
    "# #plt.ylabel('Accuracy')\n",
    "# #plt.plot(arr_lr,arr_acc,label='0 hidden layer',ls='--',marker='o')\n",
    "# ax1.plot(arr_lr, arr_acc)\n",
    "# ax1.set_title(\"0 hidden latyer\")\n",
    "# #plt.plot(arr_lr,arr_acc12,label='1 hidden layer with 2 nodes',ls='--',marker='o')\n",
    "# ax2.plot(arr_lr, arr_acc12)\n",
    "# ax2.set_title(\"1 hidden latyer with 2 nodes\")\n",
    "# #plt.plot(arr_lr,arr_acc16,label='1 hidden layer with 6 nodes',ls='--',marker='o')\n",
    "# ax3.plot(arr_lr, arr_acc16)\n",
    "# ax3.set_title(\"1 hidden latyer with 6 nodes\")\n",
    "# #plt.plot(arr_lr,arr_acc16,label='2 hidden layer with 2 and 3 nodes',ls='--',marker='o')\n",
    "# ax4.plot(arr_lr, arr_acc223)\n",
    "# ax4.set_title(\"2 hidden layer with 2 and 3 nodes\")\n",
    "# #plt.plot(arr_lr,arr_acc16,label='2 hidden layer with 3 and 2 nodes',ls='--',marker='o')\n",
    "# ax5.plot(arr_lr, arr_acc232)\n",
    "# ax5.set_title(\"2 hidden layer with 3 and 2 nodes\")\n",
    "# #plt.legend()\n",
    "# #plt.show()"
   ]
  },
  {
   "cell_type": "code",
   "execution_count": 49,
   "metadata": {},
   "outputs": [
    {
     "data": {
      "image/png": "[encoded data removed]",
      "text/plain": [
       "<Figure size 1080x1080 with 1 Axes>"
      ]
     },
     "metadata": {
      "needs_background": "light"
     },
     "output_type": "display_data"
    }
   ],
   "source": [
    "arr_model=[\"0 hidden layer\",\"1 hidden layer with 2 nodes\",\"1 hidden layer with 6 nodes\", \"2 hidden layer with 2 and 3 nodes\",\"2 hidden layer with 3 and 2 nodes\"]\n",
    "plt.rcParams['figure.figsize'] = [15, 15]\n",
    "#plt.xkcd()\n",
    "plt.xlabel('Model',fontsize=30)\n",
    "plt.ylabel('Accuracy',fontsize=30)\n",
    "plt.plot(arr_model,[arr_acc[0],arr_acc12[0],arr_acc16[0],arr_acc223[0],arr_acc232[0]],label='Learning-rate=0.1',ls='--',marker='o')\n",
    "# plt.plot(arr_lr,arr_acc12,label='1 hidden layer with 2 nodes',ls='-',marker='o')\n",
    "plt.plot(arr_model,[arr_acc[1],arr_acc12[1],arr_acc16[1],arr_acc223[1],arr_acc232[1]],label='Learning-rate=0.01',ls='--',marker='o')\n",
    "# plt.plot(arr_lr,arr_acc16,label='1 hidden layer with 6 nodes',ls='--',marker='o')\n",
    "plt.plot(arr_model,[arr_acc[2],arr_acc12[2],arr_acc16[2],arr_acc223[2],arr_acc232[2]],label='Learning-rate=0.001',ls='--',marker='o')\n",
    "# plt.plot(arr_lr,arr_acc223,label='2 hidden layer with 2 and 3 nodes',ls='--',marker='o')\n",
    "plt.plot(arr_model,[arr_acc[3],arr_acc12[3],arr_acc16[3],arr_acc223[3],arr_acc232[3]],label='Learning-rate=0.0001',ls='--',marker='o')\n",
    "# plt.plot(arr_lr,arr_acc232,label='2 hidden layer with 3 and 2 nodes',ls='-.',marker='o')\n",
    "plt.plot(arr_model,[arr_acc[4],arr_acc12[4],arr_acc16[4],arr_acc223[4],arr_acc232[4]],label='Learning-rate=0.00001',ls='--',marker='o')\n",
    "plt.legend()\n",
    "plt.savefig(\"figure2.png\")\n",
    "plt.show()"
   ]
  },
  {
   "cell_type": "code",
   "execution_count": 50,
   "metadata": {},
   "outputs": [],
   "source": [
    "nn=MLPClassifier(activation='logistic',solver='sgd',hidden_layer_sizes=(),learning_rate_init=0.1,random_state=0)"
   ]
  },
  {
   "cell_type": "code",
   "execution_count": null,
   "metadata": {},
   "outputs": [],
   "source": []
  }
 ],
 "metadata": {
  "kernelspec": {
   "display_name": "Python 3",
   "language": "python",
   "name": "python3"
  },
  "language_info": {
   "codemirror_mode": {
    "name": "ipython",
    "version": 3
   },
   "file_extension": ".py",
   "mimetype": "text/x-python",
   "name": "python",
   "nbconvert_exporter": "python",
   "pygments_lexer": "ipython3",
   "version": "3.8.3"
  }
 },
 "nbformat": 4,
 "nbformat_minor": 4
}
